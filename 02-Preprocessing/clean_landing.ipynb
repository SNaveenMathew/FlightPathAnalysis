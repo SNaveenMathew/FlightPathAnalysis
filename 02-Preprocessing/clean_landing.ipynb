{
 "cells": [
  {
   "cell_type": "code",
   "execution_count": 1,
   "metadata": {},
   "outputs": [
    {
     "name": "stderr",
     "output_type": "stream",
     "text": [
      "\n",
      "Attaching package: ‘dplyr’\n",
      "\n",
      "\n",
      "The following objects are masked from ‘package:data.table’:\n",
      "\n",
      "    between, first, last\n",
      "\n",
      "\n",
      "The following objects are masked from ‘package:stats’:\n",
      "\n",
      "    filter, lag\n",
      "\n",
      "\n",
      "The following objects are masked from ‘package:base’:\n",
      "\n",
      "    intersect, setdiff, setequal, union\n",
      "\n",
      "\n",
      "── \u001b[1mAttaching core tidyverse packages\u001b[22m ──────────────────────── tidyverse 2.0.0 ──\n",
      "\u001b[32m✔\u001b[39m \u001b[34mforcats  \u001b[39m 1.0.0     \u001b[32m✔\u001b[39m \u001b[34mstringr  \u001b[39m 1.5.0\n",
      "\u001b[32m✔\u001b[39m \u001b[34mlubridate\u001b[39m 1.9.2     \u001b[32m✔\u001b[39m \u001b[34mtibble   \u001b[39m 3.2.1\n",
      "\u001b[32m✔\u001b[39m \u001b[34mpurrr    \u001b[39m 1.0.1     \u001b[32m✔\u001b[39m \u001b[34mtidyr    \u001b[39m 1.3.0\n",
      "\u001b[32m✔\u001b[39m \u001b[34mreadr    \u001b[39m 2.1.4     \n",
      "── \u001b[1mConflicts\u001b[22m ────────────────────────────────────────── tidyverse_conflicts() ──\n",
      "\u001b[31m✖\u001b[39m \u001b[34mdplyr\u001b[39m::\u001b[32mbetween()\u001b[39m     masks \u001b[34mdata.table\u001b[39m::between()\n",
      "\u001b[31m✖\u001b[39m \u001b[34mdplyr\u001b[39m::\u001b[32mfilter()\u001b[39m      masks \u001b[34mstats\u001b[39m::filter()\n",
      "\u001b[31m✖\u001b[39m \u001b[34mdplyr\u001b[39m::\u001b[32mfirst()\u001b[39m       masks \u001b[34mdata.table\u001b[39m::first()\n",
      "\u001b[31m✖\u001b[39m \u001b[34mlubridate\u001b[39m::\u001b[32mhour()\u001b[39m    masks \u001b[34mdata.table\u001b[39m::hour()\n",
      "\u001b[31m✖\u001b[39m \u001b[34mlubridate\u001b[39m::\u001b[32misoweek()\u001b[39m masks \u001b[34mdata.table\u001b[39m::isoweek()\n",
      "\u001b[31m✖\u001b[39m \u001b[34mdplyr\u001b[39m::\u001b[32mlag()\u001b[39m         masks \u001b[34mstats\u001b[39m::lag()\n",
      "\u001b[31m✖\u001b[39m \u001b[34mdplyr\u001b[39m::\u001b[32mlast()\u001b[39m        masks \u001b[34mdata.table\u001b[39m::last()\n",
      "\u001b[31m✖\u001b[39m \u001b[34mlubridate\u001b[39m::\u001b[32mmday()\u001b[39m    masks \u001b[34mdata.table\u001b[39m::mday()\n",
      "\u001b[31m✖\u001b[39m \u001b[34mlubridate\u001b[39m::\u001b[32mminute()\u001b[39m  masks \u001b[34mdata.table\u001b[39m::minute()\n",
      "\u001b[31m✖\u001b[39m \u001b[34mlubridate\u001b[39m::\u001b[32mmonth()\u001b[39m   masks \u001b[34mdata.table\u001b[39m::month()\n",
      "\u001b[31m✖\u001b[39m \u001b[34mlubridate\u001b[39m::\u001b[32mquarter()\u001b[39m masks \u001b[34mdata.table\u001b[39m::quarter()\n",
      "\u001b[31m✖\u001b[39m \u001b[34mlubridate\u001b[39m::\u001b[32msecond()\u001b[39m  masks \u001b[34mdata.table\u001b[39m::second()\n",
      "\u001b[31m✖\u001b[39m \u001b[34mpurrr\u001b[39m::\u001b[32mtranspose()\u001b[39m   masks \u001b[34mdata.table\u001b[39m::transpose()\n",
      "\u001b[31m✖\u001b[39m \u001b[34mlubridate\u001b[39m::\u001b[32mwday()\u001b[39m    masks \u001b[34mdata.table\u001b[39m::wday()\n",
      "\u001b[31m✖\u001b[39m \u001b[34mlubridate\u001b[39m::\u001b[32mweek()\u001b[39m    masks \u001b[34mdata.table\u001b[39m::week()\n",
      "\u001b[31m✖\u001b[39m \u001b[34mlubridate\u001b[39m::\u001b[32myday()\u001b[39m    masks \u001b[34mdata.table\u001b[39m::yday()\n",
      "\u001b[31m✖\u001b[39m \u001b[34mlubridate\u001b[39m::\u001b[32myear()\u001b[39m    masks \u001b[34mdata.table\u001b[39m::year()\n",
      "\u001b[36mℹ\u001b[39m Use the conflicted package (\u001b[3m\u001b[34m<http://conflicted.r-lib.org/>\u001b[39m\u001b[23m) to force all conflicts to become errors\n"
     ]
    },
    {
     "name": "stdout",
     "output_type": "stream",
     "text": [
      "[1] 5019380\n"
     ]
    }
   ],
   "source": [
    "suppressWarnings({\n",
    "    library(data.table)\n",
    "    library(geosphere)\n",
    "    source(\"preprocess_utils.R\")\n",
    "    library(parallel)\n",
    "    library(ggplot2)\n",
    "    library(feather)\n",
    "    library(dplyr)\n",
    "    library(tidyverse)\n",
    "})\n",
    "\n",
    "landing_ac_data <- ac_data <- read_feather(\"full_ac_data.feather\")\n",
    "print(nrow(ac_data))\n",
    "setDT(ac_data)"
   ]
  },
  {
   "cell_type": "code",
   "execution_count": 2,
   "metadata": {},
   "outputs": [],
   "source": [
    "ground_speed_limit <- 3000 # knots\n",
    "max_climb_rate <- 200 # ft/s\n",
    "min_reqd_alt <- 10000 # ft\n",
    "max_ground_speed_est_ratio <- 20\n",
    "setorder(landing_ac_data, id, ts)"
   ]
  },
  {
   "cell_type": "code",
   "execution_count": 3,
   "metadata": {},
   "outputs": [],
   "source": [
    "ac_data$time_diff_condition <- (is.na(ac_data$next_ts) | ((ac_data$next_ts - ac_data$ts) > 1800))\n",
    "ac_data$alt_diff_condition <- ((ac_data$altitude - ac_data$last_altitude) < 0) |\n",
    "                                ((ac_data$next_altitude - ac_data$altitude) < 0)\n",
    "\n",
    "\n",
    "ac_data$landing_condition <- data.table::between(x = ac_data$lon, lower = -75, upper = -72.5) &\n",
    "                      data.table::between(x = ac_data$lat, lower = 40, upper = 42) &\n",
    "                        ac_data$altitude <= 1500 & ac_data$alt_diff_condition &\n",
    "                        ac_data$time_diff_condition\n",
    "ac_data[, \"landing\" := cumsum(landing_condition), by=id]\n",
    "ac_data[, \"land_max\" := max(landing), by = id]\n",
    "landing_ac_data <- ac_data[ac_data$land_max != 0, ]"
   ]
  },
  {
   "cell_type": "code",
   "execution_count": 4,
   "metadata": {},
   "outputs": [
    {
     "data": {
      "text/html": [
       "62"
      ],
      "text/latex": [
       "62"
      ],
      "text/markdown": [
       "62"
      ],
      "text/plain": [
       "[1] 62"
      ]
     },
     "metadata": {},
     "output_type": "display_data"
    }
   ],
   "source": [
    "length(unique(landing_ac_data$id))"
   ]
  },
  {
   "cell_type": "code",
   "execution_count": 5,
   "metadata": {},
   "outputs": [
    {
     "name": "stdout",
     "output_type": "stream",
     "text": [
      "[1] 5019380\n"
     ]
    }
   ],
   "source": [
    "# Keeping first row of lon, lat for each aircraft\n",
    "setorder(landing_ac_data, id, ts)\n",
    "landing_ac_data[, c(\"last_lon\", \"last_lat\") := list(c(NA, lon[-.N]), c(NA, lat[-.N])), by = \"id\"]\n",
    "landing_ac_data <- landing_ac_data[landing_ac_data$lon != landing_ac_data$last_lon | landing_ac_data$lat != landing_ac_data$last_lat, ]\n",
    "print(nrow(ac_data))\n",
    "landing_ac_data[, c(\"last_ts\", \"last_lon\", \"last_lat\") := list(c(NA, ts[-.N]), c(NA, lon[-.N]), c(NA, lat[-.N])), by = \"id\"]"
   ]
  },
  {
   "cell_type": "code",
   "execution_count": 6,
   "metadata": {
    "scrolled": true
   },
   "outputs": [
    {
     "data": {
      "image/png": "[encoded data removed]",
      "text/plain": [
       "Plot with title “Histogram of landing_ac_summary$max_landings”"
      ]
     },
     "metadata": {
      "image/png": {
       "height": 420,
       "width": 420
      }
     },
     "output_type": "display_data"
    }
   ],
   "source": [
    "landing_ac_summary <- landing_ac_data %>% group_by(id) %>% summarize(max_landings = max(land_max, na.rm = T))\n",
    "hist(landing_ac_summary$max_landings)"
   ]
  },
  {
   "cell_type": "code",
   "execution_count": 7,
   "metadata": {},
   "outputs": [
    {
     "data": {
      "text/html": [
       "15692"
      ],
      "text/latex": [
       "15692"
      ],
      "text/markdown": [
       "15692"
      ],
      "text/plain": [
       "[1] 15692"
      ]
     },
     "metadata": {},
     "output_type": "display_data"
    },
    {
     "data": {
      "text/html": [
       "15630"
      ],
      "text/latex": [
       "15630"
      ],
      "text/markdown": [
       "15630"
      ],
      "text/plain": [
       "[1] 15630"
      ]
     },
     "metadata": {},
     "output_type": "display_data"
    },
    {
     "data": {
      "text/html": [
       "9911"
      ],
      "text/latex": [
       "9911"
      ],
      "text/markdown": [
       "9911"
      ],
      "text/plain": [
       "[1] 9911"
      ]
     },
     "metadata": {},
     "output_type": "display_data"
    }
   ],
   "source": [
    "nrow(landing_ac_data)\n",
    "landing_ac_data <- landing_ac_data[, .SD[-c(1)], by = id]\n",
    "nrow(landing_ac_data)\n",
    "landing_ac_data[, \"landing_ac\" := data.table::between(x = lon[.N], lower = -74.2, upper = -73.3) &\n",
    "                                          data.table::between(x = lat[.N], lower = 40.3, upper = 41) &\n",
    "                altitude[.N] <= 1500,\n",
    "                                            by = id]\n",
    "landing_ac_data <- landing_ac_data[landing_ac_data$landing_ac, ]\n",
    "nrow(landing_ac_data)"
   ]
  },
  {
   "cell_type": "code",
   "execution_count": 8,
   "metadata": {},
   "outputs": [
    {
     "data": {
      "text/html": [
       "<style>\n",
       ".list-inline {list-style: none; margin:0; padding: 0}\n",
       ".list-inline>li {display: inline-block}\n",
       ".list-inline>li:not(:last-child)::after {content: \"\\00b7\"; padding: 0 .5ex}\n",
       "</style>\n",
       "<ol class=list-inline><li>0</li><li>1400</li></ol>\n"
      ],
      "text/latex": [
       "\\begin{enumerate*}\n",
       "\\item 0\n",
       "\\item 1400\n",
       "\\end{enumerate*}\n"
      ],
      "text/markdown": [
       "1. 0\n",
       "2. 1400\n",
       "\n",
       "\n"
      ],
      "text/plain": [
       "[1]    0 1400"
      ]
     },
     "metadata": {},
     "output_type": "display_data"
    }
   ],
   "source": [
    "landing_ac_data[, \"alt\" := altitude[.N], by = id]\n",
    "range(landing_ac_data$alt)"
   ]
  },
  {
   "cell_type": "code",
   "execution_count": 9,
   "metadata": {},
   "outputs": [
    {
     "data": {
      "text/html": [
       "8535"
      ],
      "text/latex": [
       "8535"
      ],
      "text/markdown": [
       "8535"
      ],
      "text/plain": [
       "[1] 8535"
      ]
     },
     "metadata": {},
     "output_type": "display_data"
    }
   ],
   "source": [
    "landing_ac_data[, c(\"max_alt\") := list(max(altitude, na.rm = T)), by = id]\n",
    "landing_ac_data <- landing_ac_data[landing_ac_data$max_alt >= min_reqd_alt, ]\n",
    "nrow(landing_ac_data)"
   ]
  },
  {
   "cell_type": "code",
   "execution_count": 10,
   "metadata": {},
   "outputs": [],
   "source": [
    "landing_ac_data$ground_speed_est <- 9/4.63 * apply(landing_ac_data[, c(\"lon\", \"lat\", \"last_lon\", \"last_lat\")], 1, ground_dist)/as.numeric(landing_ac_data$ts - landing_ac_data$last_ts)\n",
    "landing_ac_data[, \"max_ground_speed_est\" := max(ground_speed_est), by = id]\n"
   ]
  },
  {
   "cell_type": "raw",
   "metadata": {},
   "source": [
    "hist(landing_ac_data$max_ground_speed_est, breaks = 100)"
   ]
  },
  {
   "cell_type": "code",
   "execution_count": 11,
   "metadata": {},
   "outputs": [
    {
     "data": {
      "text/html": [
       "1"
      ],
      "text/latex": [
       "1"
      ],
      "text/markdown": [
       "1"
      ],
      "text/plain": [
       "[1] 1"
      ]
     },
     "metadata": {},
     "output_type": "display_data"
    }
   ],
   "source": [
    "mean(landing_ac_data$max_ground_speed_est <= ground_speed_limit)"
   ]
  },
  {
   "cell_type": "code",
   "execution_count": 12,
   "metadata": {},
   "outputs": [
    {
     "data": {
      "image/png": "[encoded data removed]",
      "text/plain": [
       "Plot with title “Histogram of landing_ac_data$ground_speed_est/landing_ac_data$ground_speed”"
      ]
     },
     "metadata": {
      "image/png": {
       "height": 420,
       "width": 420
      }
     },
     "output_type": "display_data"
    }
   ],
   "source": [
    "hist(landing_ac_data$ground_speed_est/landing_ac_data$ground_speed, breaks = 1000)"
   ]
  },
  {
   "cell_type": "code",
   "execution_count": 13,
   "metadata": {},
   "outputs": [
    {
     "data": {
      "text/html": [
       "0.999648506151142"
      ],
      "text/latex": [
       "0.999648506151142"
      ],
      "text/markdown": [
       "0.999648506151142"
      ],
      "text/plain": [
       "[1] 0.9996485"
      ]
     },
     "metadata": {},
     "output_type": "display_data"
    },
    {
     "data": {
      "image/png": "[encoded data removed]",
      "text/plain": [
       "Plot with title “Histogram of landing_ac_data1$max_ratio”"
      ]
     },
     "metadata": {
      "image/png": {
       "height": 420,
       "width": 420
      }
     },
     "output_type": "display_data"
    }
   ],
   "source": [
    "mean(landing_ac_data$ground_speed_est/landing_ac_data$ground_speed <= 20)\n",
    "landing_ac_data[, \"max_ratio\" := max(ground_speed_est/ground_speed), by = id]\n",
    "landing_ac_data1 <- unique(landing_ac_data[, c(\"id\", \"max_ratio\")])\n",
    "hist(landing_ac_data1$max_ratio)"
   ]
  },
  {
   "cell_type": "code",
   "execution_count": 14,
   "metadata": {},
   "outputs": [
    {
     "data": {
      "text/html": [
       "8535"
      ],
      "text/latex": [
       "8535"
      ],
      "text/markdown": [
       "8535"
      ],
      "text/plain": [
       "[1] 8535"
      ]
     },
     "metadata": {},
     "output_type": "display_data"
    },
    {
     "data": {
      "text/html": [
       "0.875"
      ],
      "text/latex": [
       "0.875"
      ],
      "text/markdown": [
       "0.875"
      ],
      "text/plain": [
       "[1] 0.875"
      ]
     },
     "metadata": {},
     "output_type": "display_data"
    },
    {
     "data": {
      "text/html": [
       "7568"
      ],
      "text/latex": [
       "7568"
      ],
      "text/markdown": [
       "7568"
      ],
      "text/plain": [
       "[1] 7568"
      ]
     },
     "metadata": {},
     "output_type": "display_data"
    }
   ],
   "source": [
    "nrow(landing_ac_data)\n",
    "mean(landing_ac_data1$max_ratio <= max_ground_speed_est_ratio)\n",
    "reqd_ids <- landing_ac_data1$id[landing_ac_data1$max_ratio <= max_ground_speed_est_ratio]\n",
    "landing_ac_data <- landing_ac_data[sapply(landing_ac_data$id, function(id1) id1 %in% reqd_ids), ]\n",
    "nrow(landing_ac_data)"
   ]
  },
  {
   "cell_type": "code",
   "execution_count": 15,
   "metadata": {},
   "outputs": [
    {
     "name": "stdout",
     "output_type": "stream",
     "text": [
      "[1] 7568\n"
     ]
    }
   ],
   "source": [
    "landing_ac_data <- landing_ac_data[landing_ac_data$max_ground_speed_est <= max_ground_speed_est, ]\n",
    "print(nrow(landing_ac_data))"
   ]
  },
  {
   "cell_type": "code",
   "execution_count": 16,
   "metadata": {},
   "outputs": [],
   "source": [
    "landing_ac_data[, \"last_alt\" := c(NA, altitude[-.N]), by = id]\n",
    "ht_df <- landing_ac_data[landing_ac_data$altitude != landing_ac_data$last_alt, ]\n",
    "setorder(ht_df, id, ts)"
   ]
  },
  {
   "cell_type": "code",
   "execution_count": 17,
   "metadata": {},
   "outputs": [
    {
     "data": {
      "text/html": [
       "3607"
      ],
      "text/latex": [
       "3607"
      ],
      "text/markdown": [
       "3607"
      ],
      "text/plain": [
       "[1] 3607"
      ]
     },
     "metadata": {},
     "output_type": "display_data"
    }
   ],
   "source": [
    "nrow(ht_df)"
   ]
  },
  {
   "cell_type": "code",
   "execution_count": 18,
   "metadata": {},
   "outputs": [],
   "source": [
    "ht_df[, \"last_ts\" := c(NA, ts[-.N]), by = id]\n",
    "ht_df$climb_rate <- (ht_df$altitude - ht_df$last_alt)/as.numeric(ht_df$ts - ht_df$last_ts) # ft/s"
   ]
  },
  {
   "cell_type": "code",
   "execution_count": 19,
   "metadata": {},
   "outputs": [
    {
     "data": {
      "image/png": "[encoded data removed]",
      "text/plain": [
       "Plot with title “Histogram of ht_df$max_abs_climb_rate”"
      ]
     },
     "metadata": {
      "image/png": {
       "height": 420,
       "width": 420
      }
     },
     "output_type": "display_data"
    }
   ],
   "source": [
    "ht_df[, \"max_abs_climb_rate\" := max(abs(climb_rate), na.rm = T), by = id]\n",
    "hist(ht_df$max_abs_climb_rate, breaks = 100)"
   ]
  },
  {
   "cell_type": "code",
   "execution_count": 20,
   "metadata": {},
   "outputs": [
    {
     "data": {
      "text/html": [
       "1"
      ],
      "text/latex": [
       "1"
      ],
      "text/markdown": [
       "1"
      ],
      "text/plain": [
       "[1] 1"
      ]
     },
     "metadata": {},
     "output_type": "display_data"
    },
    {
     "data": {
      "text/html": [
       "21"
      ],
      "text/latex": [
       "21"
      ],
      "text/markdown": [
       "21"
      ],
      "text/plain": [
       "[1] 21"
      ]
     },
     "metadata": {},
     "output_type": "display_data"
    }
   ],
   "source": [
    "mean(ht_df$max_abs_climb_rate <= max_climb_rate)\n",
    "clean_landing_id <- unique(ht_df$id[ht_df$max_abs_climb_rate <= max_climb_rate])\n",
    "length(clean_landing_id)"
   ]
  },
  {
   "cell_type": "code",
   "execution_count": 21,
   "metadata": {},
   "outputs": [],
   "source": [
    "landing_ac_data <- landing_ac_data[sapply(landing_ac_data$id, function(id1) id1 %in% clean_landing_id), ]"
   ]
  },
  {
   "cell_type": "code",
   "execution_count": 22,
   "metadata": {},
   "outputs": [
    {
     "data": {
      "text/html": [
       "7568"
      ],
      "text/latex": [
       "7568"
      ],
      "text/markdown": [
       "7568"
      ],
      "text/plain": [
       "[1] 7568"
      ]
     },
     "metadata": {},
     "output_type": "display_data"
    }
   ],
   "source": [
    "nrow(landing_ac_data)"
   ]
  },
  {
   "cell_type": "markdown",
   "metadata": {},
   "source": [
    "landing_ac_data <- filter_m_min_r_rows(landing_ac_data)"
   ]
  },
  {
   "cell_type": "code",
   "execution_count": 23,
   "metadata": {},
   "outputs": [
    {
     "data": {
      "text/html": [
       "21"
      ],
      "text/latex": [
       "21"
      ],
      "text/markdown": [
       "21"
      ],
      "text/plain": [
       "[1] 21"
      ]
     },
     "metadata": {},
     "output_type": "display_data"
    }
   ],
   "source": [
    "length(unique(landing_ac_data$id))"
   ]
  },
  {
   "cell_type": "code",
   "execution_count": 24,
   "metadata": {
    "scrolled": true
   },
   "outputs": [],
   "source": [
    "world <- map_data(\"world\")\n",
    "a_region <- filter(world, long > -78 & long < -68 & lat > 35 & lat < 45)"
   ]
  },
  {
   "cell_type": "code",
   "execution_count": 25,
   "metadata": {},
   "outputs": [],
   "source": [
    "dir.create(\"clean_landed_id\", showWarnings = F)\n",
    "setwd(\"clean_landed_id/\")\n",
    "uniq_id <- unique(landing_ac_data$aircraft)\n",
    "plot_ids <- plot_aircraft_ids(jfk_data1 = landing_ac_data, a_region = a_region,\n",
    "                              min_lon = min(landing_ac_data$lon), max_lon = max(landing_ac_data$lon),\n",
    "                              min_lat = min(landing_ac_data$lat), max_lat = max(landing_ac_data$lat))\n",
    "suppressWarnings({\n",
    "    plot_ids(uniq_id = uniq_id)\n",
    "})\n",
    "# landing_ac_data <- get_quadrant(landing_ac_data)"
   ]
  },
  {
   "cell_type": "raw",
   "metadata": {},
   "source": [
    "df1 <- landing_ac_data[landing_ac_data$id == \"A41E94_1\", ]\n",
    "df1[df1$quadrant_change, c(\"last_lon\", \"last_lat\", \"last_ts_diff\", \"lon\", \"lat\", \"quadrant_change\", \"entered\", \"landed\", \"num_id\")]"
   ]
  },
  {
   "cell_type": "code",
   "execution_count": 27,
   "metadata": {},
   "outputs": [],
   "source": [
    "write_feather(landing_ac_data, \"landing_subset_refined.feather\")"
   ]
  }
 ],
 "metadata": {
  "environment": {
   "kernel": "ir",
   "name": "r-cpu.4-2.m108",
   "type": "gcloud",
   "uri": "gcr.io/deeplearning-platform-release/r-cpu.4-2:m108"
  },
  "kernelspec": {
   "display_name": "R",
   "language": "R",
   "name": "ir"
  },
  "language_info": {
   "codemirror_mode": "r",
   "file_extension": ".r",
   "mimetype": "text/x-r-source",
   "name": "R",
   "pygments_lexer": "r",
   "version": "4.2.3"
  }
 },
 "nbformat": 4,
 "nbformat_minor": 2
}
