{
 "cells": [
  {
   "cell_type": "markdown",
   "metadata": {
    "id": "Efofi-ciZ1w1"
   },
   "source": [
    "# Steps for the first run\n",
    "\n",
    "- Run `conda install -c conda-forge r-plyr r-dplyr r-data.table r-bit64 r-geosphere r-tidyverse r-maps r-scales r-stringr r-ggplot2` using command line and restart the R kernel of this notebook\n",
    "- Run the next `install.packages(c(\"feather\", \"geosphere\")) cell` - required for some reason\n",
    "- For some reason the notebook does not work beyond cell 16. Use `nbconvert` in command line, or nbconvertR package in R to convert this notebook to a .r file. Either use R prompt or use `Rscript` command to run the generated .r file. To successfully execute nbconvert in R:\n",
    "    - Install package nbconvertR using `conda install -c r r-nbconvertr`\n",
    "    - `library(nbconvertR)`\n",
    "    - `nbconvert(\"postprocess_new_adsb.ipynb\", \"script\")`\n",
    "    - This will produce postprocess_new_adsb.r that can either be sourced from R prompt using `source` or from command line using `Rscript`"
   ]
  },
  {
   "cell_type": "code",
   "execution_count": null,
   "metadata": {},
   "outputs": [],
   "source": [
    "#install.packages(c(\"feather\", \"geosphere\"))"
   ]
  },
  {
   "cell_type": "code",
   "execution_count": null,
   "metadata": {},
   "outputs": [],
   "source": [
    "# library(nbconvertR)\n",
    "# nbconvert(\"01-label_aircraft_id.ipynb\", \"script\")"
   ]
  },
  {
   "cell_type": "markdown",
   "metadata": {
    "id": "W93kg71aZ1w0"
   },
   "source": [
    "# Data dictionary\n",
    "\n",
    "| Variable | Description |\n",
    "|----------|-------------|\n",
    "|    V1    | Unknown timestamp |\n",
    "|    V2    | Seems to change for each aircraft during exit-entry |\n",
    "|    V3    | Looks like a proxy for aircraft |\n",
    "|    V4    | |\n",
    "|    V5    | |\n",
    "|    V6    | Heading direction in degrees, ranges from 1 to 360 |\n",
    "|    V7    | (Barometric?) Altitude in ft |\n",
    "|    V8    | (Estimated?) Ground speed in kts? |\n",
    "|    V9    | |\n",
    "|    V10   | Call-sign: not a good proxy for aircraft as one might expect |\n",
    "|    V11   | |\n",
    "|    V12   | |\n",
    "|    V13   | Useful timestamp? |\n",
    "|    V14   | Source airport code |\n",
    "|    V15   | Destination airport code |\n",
    "|    V16   | Another proxy for aircraft? |\n",
    "|    V17   | Flag indicating if the aircraft is at an airport? |\n",
    "|    V18   | Instantaneous climb rate (ft/s)? (jittery) |\n",
    "|    V19   | Another proxy for aircraft? |\n",
    "|  V16_V19 | Looks like a good proxy for aircraft ID. Can be used to refine V3 further |"
   ]
  },
  {
   "cell_type": "markdown",
   "metadata": {
    "id": "8U_oqx-IKgcw"
   },
   "source": [
    "# Definitions\n",
    "\n",
    "| Term | Definition |\n",
    "|------|------------|\n",
    "| Maximum time between two samples for the aircraft to be declared \"expired\" | 2 hours |\n",
    "| Time from exit to re-entry as a new aircraft | 18 mins |\n",
    "| Minimum time to remain on ground to be labeled as a new aircraft | 18 mins |\n",
    "| Absolute latitude difference around airport for an aircraft to be labeled 'landed' | 0.1&deg; |\n",
    "| Absolute longitude difference around airport for an aircraft to be labeled 'landed' | 0.1&deg; |"
   ]
  },
  {
   "cell_type": "markdown",
   "metadata": {
    "id": "bf2QRxYxZ1w1"
   },
   "source": [
    "# Initialization"
   ]
  },
  {
   "cell_type": "code",
   "execution_count": 1,
   "metadata": {
    "id": "1n2rvUUHZ1w2"
   },
   "outputs": [],
   "source": [
    "lower_lat <- 35\n",
    "upper_lat <- 45\n",
    "lower_lon <- -78\n",
    "upper_lon <- -68\n",
    "lat_range <- 0.4\n",
    "lon_range <- 0.5\n",
    "ts_diff_ground <- 1080\n",
    "ts_diff_exit_enter <- 1080\n",
    "ts_diff_expired <- 7200\n",
    "airport_lat_half_range <- airport_lon_half_range <- 0.1"
   ]
  },
  {
   "cell_type": "markdown",
   "metadata": {},
   "source": [
    "# Constraints"
   ]
  },
  {
   "cell_type": "code",
   "execution_count": 4,
   "metadata": {
    "colab": {
     "base_uri": "https://localhost:8080/"
    },
    "id": "QDQcWwRcZ1w9",
    "outputId": "9d632198-f5ec-46a3-c8c4-b71fa139ede9"
   },
   "outputs": [],
   "source": [
    "v1_ground <- 50 # Minimum speed for takeoff/landing\n",
    "landed_altitude <- 1000 # may not need this because of V17\n",
    "surely_grounded_speed <- 10 # Aircraft is guaranteed to be on the ground at this speed\n",
    "alt_100_99_perc_ratio_max <- 1.05 # Ratio of max altitude to 99%ile altitude should be <= 1.05, otherwise drop the sample (not the entire aircraft data)\n",
    "altitude_ceiling <- 48000"
   ]
  },
  {
   "cell_type": "markdown",
   "metadata": {},
   "source": [
    "# Loading packages and utilities"
   ]
  },
  {
   "cell_type": "code",
   "execution_count": 2,
   "metadata": {
    "id": "6nuuRZVQZ1w9"
   },
   "outputs": [],
   "source": [
    "suppressMessages({\n",
    "    library(plyr)\n",
    "    library(dplyr)\n",
    "    library(data.table)\n",
    "    library(bit64)\n",
    "    library(geosphere)\n",
    "    library(feather)\n",
    "    # library(rnaturalearth)\n",
    "})"
   ]
  },
  {
   "cell_type": "code",
   "execution_count": 3,
   "metadata": {
    "id": "F4lrRcAg5x32"
   },
   "outputs": [],
   "source": [
    "process_ac_data <- function(ac_data) {\n",
    "  ac_data <- ac_data %>% rename(\n",
    "      azimuth = V6, source = V14, destination = V15, altitude = V7,\n",
    "      ground_speed = V8, aircraft = V3, ts = V13, climb_rate = V18,\n",
    "      # ground_speed = V8, aircraft = V10, ts = V1, climb_rate = V18,\n",
    "      ground_flag = V17, lat = V4, lon = V5, aircraft_type = V11)\n",
    "\n",
    "  # New: Ground flag and altitude update to avoid discrepancies\n",
    "  ac_data$ground_flag[(ac_data$altitude == 0) & (ac_data$ground_speed <= v1_ground)] <- 1\n",
    "  ac_data$altitude[ac_data$ground_flag == 1] <- 0\n",
    "\n",
    "  ac_data$altitude <- 100 * ceiling(ac_data$altitude/100) # Ceiling altitude to nearest 100\n",
    "  ac_data <- ac_data[ac_data$V10 != \"F-EST\"] # Removing estimated positions\n",
    "  setorder(ac_data, aircraft, ts)\n",
    "  ac_data <- ac_data[, .SD[1], by = list(aircraft, ts)]\n",
    "\n",
    "  ac_data$ts_readable <- as.POSIXct.numeric(as.numeric(ac_data$ts), origin=\"1970-01-01\")\n",
    "\n",
    "  # Removing anomalous aircraft\n",
    "  ac_data$quadrant <- ceiling(ac_data$azimuth/90)\n",
    "  ac_data <- ac_data[!grepl(ac_data$aircraft, pattern = \"^FAA\"), ]\n",
    "  # ac_to_remove <- data.frame(aircraft = unique(ac_data$aircraft[ac_data$altitude >= 30000 & ac_data$ground_speed < 100]))\n",
    "\n",
    "  # ac_data$V16_V19 <- paste0(ac_data$V16, \"_\", ac_data$V19) # Concatenates both available IDs\n",
    "  return(ac_data)\n",
    "}"
   ]
  },
  {
   "cell_type": "code",
   "execution_count": 5,
   "metadata": {
    "tags": []
   },
   "outputs": [
    {
     "name": "stdout",
     "output_type": "stream",
     "text": [
      "[1] \"ads-b_with_id.csv\"\n"
     ]
    }
   ],
   "source": [
    "csv_files <- list.files(pattern = \"^ads-b.*\\\\.csv$\")\n",
    "print(csv_files)\n",
    "dt_lst <- list(csv_files)"
   ]
  },
  {
   "cell_type": "code",
   "execution_count": 6,
   "metadata": {
    "colab": {
     "base_uri": "https://localhost:8080/",
     "height": 652
    },
    "id": "mseOTcqmdoxi",
    "outputId": "34b30519-8bb2-4d35-ca93-1803f88cc089",
    "tags": []
   },
   "outputs": [
    {
     "data": {
      "text/html": [
       "<table class=\"dataframe\">\n",
       "<caption>A matrix: 2 × 6 of type dbl</caption>\n",
       "<thead>\n",
       "\t<tr><th></th><th scope=col>used</th><th scope=col>(Mb)</th><th scope=col>gc trigger</th><th scope=col>(Mb)</th><th scope=col>max used</th><th scope=col>(Mb)</th></tr>\n",
       "</thead>\n",
       "<tbody>\n",
       "\t<tr><th scope=row>Ncells</th><td>  1324525</td><td> 70.8</td><td>  2439237</td><td> 130.3</td><td>  1362794</td><td>  72.8</td></tr>\n",
       "\t<tr><th scope=row>Vcells</th><td>108521717</td><td>828.0</td><td>342253930</td><td>2611.2</td><td>427475044</td><td>3261.4</td></tr>\n",
       "</tbody>\n",
       "</table>\n"
      ],
      "text/latex": [
       "A matrix: 2 × 6 of type dbl\n",
       "\\begin{tabular}{r|llllll}\n",
       "  & used & (Mb) & gc trigger & (Mb) & max used & (Mb)\\\\\n",
       "\\hline\n",
       "\tNcells &   1324525 &  70.8 &   2439237 &  130.3 &   1362794 &   72.8\\\\\n",
       "\tVcells & 108521717 & 828.0 & 342253930 & 2611.2 & 427475044 & 3261.4\\\\\n",
       "\\end{tabular}\n"
      ],
      "text/markdown": [
       "\n",
       "A matrix: 2 × 6 of type dbl\n",
       "\n",
       "| <!--/--> | used | (Mb) | gc trigger | (Mb) | max used | (Mb) |\n",
       "|---|---|---|---|---|---|---|\n",
       "| Ncells |   1324525 |  70.8 |   2439237 |  130.3 |   1362794 |   72.8 |\n",
       "| Vcells | 108521717 | 828.0 | 342253930 | 2611.2 | 427475044 | 3261.4 |\n",
       "\n"
      ],
      "text/plain": [
       "       used      (Mb)  gc trigger (Mb)   max used  (Mb)  \n",
       "Ncells   1324525  70.8   2439237   130.3   1362794   72.8\n",
       "Vcells 108521717 828.0 342253930  2611.2 427475044 3261.4"
      ]
     },
     "metadata": {},
     "output_type": "display_data"
    }
   ],
   "source": [
    "if(length(csv_files) > 0) {\n",
    "  for(i in 1:length(csv_files)) {\n",
    "    csv_file <- csv_files[i]\n",
    "    dt_lst[[i]] <- process_ac_data(fread(csv_file, header = FALSE))\n",
    "  }\n",
    "}\n",
    "ac_data <- rbindlist(dt_lst, fill = TRUE)\n",
    "rm(dt_lst)\n",
    "# unique(ac_data, by = c(\"aircraft\", \"ts\")) # Not good because \"aircraft\" is not strictly unique\n",
    "gc(verbose = FALSE)"
   ]
  },
  {
   "cell_type": "code",
   "execution_count": 7,
   "metadata": {
    "id": "fXubaR57h8dk"
   },
   "outputs": [],
   "source": [
    "# ac_data <- fread(\"ads-b_with_id.csv\")\n",
    "# ac_data <- rbind(ac_data, fread(\"../../adsb_fetch/ads-b_exta_with_id_no_est.csv\"))\n",
    "\n",
    "setorder(ac_data, cols = \"aircraft\", \"ts\")"
   ]
  },
  {
   "cell_type": "code",
   "execution_count": 8,
   "metadata": {
    "colab": {
     "base_uri": "https://localhost:8080/",
     "height": 410
    },
    "id": "tvVSB1qFhx-O",
    "outputId": "cfaf5b59-2047-4682-d3e6-b5c3d41682f4",
    "tags": []
   },
   "outputs": [
    {
     "data": {
      "text/html": [
       "<table class=\"dataframe\">\n",
       "<caption>A data.table: 6 × 24</caption>\n",
       "<thead>\n",
       "\t<tr><th scope=col>aircraft</th><th scope=col>ts</th><th scope=col>V1</th><th scope=col>V2</th><th scope=col>lat</th><th scope=col>lon</th><th scope=col>azimuth</th><th scope=col>altitude</th><th scope=col>ground_speed</th><th scope=col>V9</th><th scope=col>⋯</th><th scope=col>destination</th><th scope=col>V16</th><th scope=col>ground_flag</th><th scope=col>climb_rate</th><th scope=col>V19</th><th scope=col>V20</th><th scope=col>V21</th><th scope=col>ts_readable</th><th scope=col>quadrant</th><th scope=col>V16_V19</th></tr>\n",
       "\t<tr><th scope=col>&lt;chr&gt;</th><th scope=col>&lt;int&gt;</th><th scope=col>&lt;dbl&gt;</th><th scope=col>&lt;chr&gt;</th><th scope=col>&lt;dbl&gt;</th><th scope=col>&lt;dbl&gt;</th><th scope=col>&lt;int&gt;</th><th scope=col>&lt;dbl&gt;</th><th scope=col>&lt;int&gt;</th><th scope=col>&lt;lgl&gt;</th><th scope=col>⋯</th><th scope=col>&lt;chr&gt;</th><th scope=col>&lt;chr&gt;</th><th scope=col>&lt;dbl&gt;</th><th scope=col>&lt;int&gt;</th><th scope=col>&lt;chr&gt;</th><th scope=col>&lt;int&gt;</th><th scope=col>&lt;chr&gt;</th><th scope=col>&lt;dttm&gt;</th><th scope=col>&lt;dbl&gt;</th><th scope=col>&lt;chr&gt;</th></tr>\n",
       "</thead>\n",
       "<tbody>\n",
       "\t<tr><td>01008C</td><td>1686241896</td><td>1686241897</td><td>30a21562</td><td>42.252</td><td>-69.212</td><td>  0</td><td>41700</td><td>  0</td><td>NA</td><td>⋯</td><td></td><td></td><td>0</td><td>  192</td><td></td><td>0</td><td>EGY</td><td>2023-06-08 16:31:36</td><td>0</td><td>T-MLAT2__</td></tr>\n",
       "\t<tr><td>01008C</td><td>1686241916</td><td>1686241922</td><td>30a21562</td><td>42.225</td><td>-69.276</td><td>241</td><td>24000</td><td>240</td><td>NA</td><td>⋯</td><td></td><td></td><td>0</td><td>  192</td><td></td><td>0</td><td>EGY</td><td>2023-06-08 16:31:56</td><td>3</td><td>T-MLAT2__</td></tr>\n",
       "\t<tr><td>01008C</td><td>1686241928</td><td>1686241931</td><td>30a21562</td><td>42.216</td><td>-69.298</td><td>241</td><td>24000</td><td>240</td><td>NA</td><td>⋯</td><td></td><td></td><td>0</td><td>-6400</td><td></td><td>0</td><td>EGY</td><td>2023-06-08 16:32:08</td><td>3</td><td>T-MLAT2__</td></tr>\n",
       "\t<tr><td>01008C</td><td>1686241940</td><td>1686241939</td><td>30a21562</td><td>42.208</td><td>-69.319</td><td>242</td><td>24000</td><td>244</td><td>NA</td><td>⋯</td><td></td><td></td><td>0</td><td>    0</td><td></td><td>0</td><td>EGY</td><td>2023-06-08 16:32:20</td><td>3</td><td>T-MLAT2__</td></tr>\n",
       "\t<tr><td>01008C</td><td>1686241948</td><td>1686241948</td><td>30a21562</td><td>42.203</td><td>-69.332</td><td>243</td><td>24000</td><td>246</td><td>NA</td><td>⋯</td><td></td><td></td><td>0</td><td>    0</td><td></td><td>0</td><td>EGY</td><td>2023-06-08 16:32:28</td><td>3</td><td>T-MLAT2__</td></tr>\n",
       "\t<tr><td>01008C</td><td>1686241957</td><td>1686241956</td><td>30a21562</td><td>42.201</td><td>-69.335</td><td>243</td><td>41700</td><td>246</td><td>NA</td><td>⋯</td><td></td><td></td><td>0</td><td>    0</td><td></td><td>0</td><td>EGY</td><td>2023-06-08 16:32:37</td><td>3</td><td>T-MLAT2__</td></tr>\n",
       "</tbody>\n",
       "</table>\n"
      ],
      "text/latex": [
       "A data.table: 6 × 24\n",
       "\\begin{tabular}{lllllllllllllllllllll}\n",
       " aircraft & ts & V1 & V2 & lat & lon & azimuth & altitude & ground\\_speed & V9 & ⋯ & destination & V16 & ground\\_flag & climb\\_rate & V19 & V20 & V21 & ts\\_readable & quadrant & V16\\_V19\\\\\n",
       " <chr> & <int> & <dbl> & <chr> & <dbl> & <dbl> & <int> & <dbl> & <int> & <lgl> & ⋯ & <chr> & <chr> & <dbl> & <int> & <chr> & <int> & <chr> & <dttm> & <dbl> & <chr>\\\\\n",
       "\\hline\n",
       "\t 01008C & 1686241896 & 1686241897 & 30a21562 & 42.252 & -69.212 &   0 & 41700 &   0 & NA & ⋯ &  &  & 0 &   192 &  & 0 & EGY & 2023-06-08 16:31:36 & 0 & T-MLAT2\\_\\_\\\\\n",
       "\t 01008C & 1686241916 & 1686241922 & 30a21562 & 42.225 & -69.276 & 241 & 24000 & 240 & NA & ⋯ &  &  & 0 &   192 &  & 0 & EGY & 2023-06-08 16:31:56 & 3 & T-MLAT2\\_\\_\\\\\n",
       "\t 01008C & 1686241928 & 1686241931 & 30a21562 & 42.216 & -69.298 & 241 & 24000 & 240 & NA & ⋯ &  &  & 0 & -6400 &  & 0 & EGY & 2023-06-08 16:32:08 & 3 & T-MLAT2\\_\\_\\\\\n",
       "\t 01008C & 1686241940 & 1686241939 & 30a21562 & 42.208 & -69.319 & 242 & 24000 & 244 & NA & ⋯ &  &  & 0 &     0 &  & 0 & EGY & 2023-06-08 16:32:20 & 3 & T-MLAT2\\_\\_\\\\\n",
       "\t 01008C & 1686241948 & 1686241948 & 30a21562 & 42.203 & -69.332 & 243 & 24000 & 246 & NA & ⋯ &  &  & 0 &     0 &  & 0 & EGY & 2023-06-08 16:32:28 & 3 & T-MLAT2\\_\\_\\\\\n",
       "\t 01008C & 1686241957 & 1686241956 & 30a21562 & 42.201 & -69.335 & 243 & 41700 & 246 & NA & ⋯ &  &  & 0 &     0 &  & 0 & EGY & 2023-06-08 16:32:37 & 3 & T-MLAT2\\_\\_\\\\\n",
       "\\end{tabular}\n"
      ],
      "text/markdown": [
       "\n",
       "A data.table: 6 × 24\n",
       "\n",
       "| aircraft &lt;chr&gt; | ts &lt;int&gt; | V1 &lt;dbl&gt; | V2 &lt;chr&gt; | lat &lt;dbl&gt; | lon &lt;dbl&gt; | azimuth &lt;int&gt; | altitude &lt;dbl&gt; | ground_speed &lt;int&gt; | V9 &lt;lgl&gt; | ⋯ ⋯ | destination &lt;chr&gt; | V16 &lt;chr&gt; | ground_flag &lt;dbl&gt; | climb_rate &lt;int&gt; | V19 &lt;chr&gt; | V20 &lt;int&gt; | V21 &lt;chr&gt; | ts_readable &lt;dttm&gt; | quadrant &lt;dbl&gt; | V16_V19 &lt;chr&gt; |\n",
       "|---|---|---|---|---|---|---|---|---|---|---|---|---|---|---|---|---|---|---|---|---|\n",
       "| 01008C | 1686241896 | 1686241897 | 30a21562 | 42.252 | -69.212 |   0 | 41700 |   0 | NA | ⋯ | <!----> | <!----> | 0 |   192 | <!----> | 0 | EGY | 2023-06-08 16:31:36 | 0 | T-MLAT2__ |\n",
       "| 01008C | 1686241916 | 1686241922 | 30a21562 | 42.225 | -69.276 | 241 | 24000 | 240 | NA | ⋯ | <!----> | <!----> | 0 |   192 | <!----> | 0 | EGY | 2023-06-08 16:31:56 | 3 | T-MLAT2__ |\n",
       "| 01008C | 1686241928 | 1686241931 | 30a21562 | 42.216 | -69.298 | 241 | 24000 | 240 | NA | ⋯ | <!----> | <!----> | 0 | -6400 | <!----> | 0 | EGY | 2023-06-08 16:32:08 | 3 | T-MLAT2__ |\n",
       "| 01008C | 1686241940 | 1686241939 | 30a21562 | 42.208 | -69.319 | 242 | 24000 | 244 | NA | ⋯ | <!----> | <!----> | 0 |     0 | <!----> | 0 | EGY | 2023-06-08 16:32:20 | 3 | T-MLAT2__ |\n",
       "| 01008C | 1686241948 | 1686241948 | 30a21562 | 42.203 | -69.332 | 243 | 24000 | 246 | NA | ⋯ | <!----> | <!----> | 0 |     0 | <!----> | 0 | EGY | 2023-06-08 16:32:28 | 3 | T-MLAT2__ |\n",
       "| 01008C | 1686241957 | 1686241956 | 30a21562 | 42.201 | -69.335 | 243 | 41700 | 246 | NA | ⋯ | <!----> | <!----> | 0 |     0 | <!----> | 0 | EGY | 2023-06-08 16:32:37 | 3 | T-MLAT2__ |\n",
       "\n"
      ],
      "text/plain": [
       "  aircraft ts         V1         V2       lat    lon     azimuth altitude\n",
       "1 01008C   1686241896 1686241897 30a21562 42.252 -69.212   0     41700   \n",
       "2 01008C   1686241916 1686241922 30a21562 42.225 -69.276 241     24000   \n",
       "3 01008C   1686241928 1686241931 30a21562 42.216 -69.298 241     24000   \n",
       "4 01008C   1686241940 1686241939 30a21562 42.208 -69.319 242     24000   \n",
       "5 01008C   1686241948 1686241948 30a21562 42.203 -69.332 243     24000   \n",
       "6 01008C   1686241957 1686241956 30a21562 42.201 -69.335 243     41700   \n",
       "  ground_speed V9 ⋯ destination V16 ground_flag climb_rate V19 V20 V21\n",
       "1   0          NA ⋯                 0             192          0   EGY\n",
       "2 240          NA ⋯                 0             192          0   EGY\n",
       "3 240          NA ⋯                 0           -6400          0   EGY\n",
       "4 244          NA ⋯                 0               0          0   EGY\n",
       "5 246          NA ⋯                 0               0          0   EGY\n",
       "6 246          NA ⋯                 0               0          0   EGY\n",
       "  ts_readable         quadrant V16_V19  \n",
       "1 2023-06-08 16:31:36 0        T-MLAT2__\n",
       "2 2023-06-08 16:31:56 3        T-MLAT2__\n",
       "3 2023-06-08 16:32:08 3        T-MLAT2__\n",
       "4 2023-06-08 16:32:20 3        T-MLAT2__\n",
       "5 2023-06-08 16:32:28 3        T-MLAT2__\n",
       "6 2023-06-08 16:32:37 3        T-MLAT2__"
      ]
     },
     "metadata": {},
     "output_type": "display_data"
    }
   ],
   "source": [
    "head(ac_data)"
   ]
  },
  {
   "cell_type": "code",
   "execution_count": 9,
   "metadata": {
    "id": "2d5Ai6iWZ1w_"
   },
   "outputs": [],
   "source": [
    "ac_data[, c(\"last_lat\", \"last_lon\", \"last_azimuth\", \"last_altitude\",\n",
    "            \"last_ts\", \"last_source\", \"last_destination\", \"last_V9\",\n",
    "            #\"last_ground_flag\", \"last_V16_V19\", \"last_quadrant\",\n",
    "            \"last_ground_flag\", \"last_quadrant\",\n",
    "            \"last_ground_speed\", \"last_V2\",\n",
    "            \"next_lat\", \"next_lon\", \"next_azimuth\", \"next_altitude\",\n",
    "            \"next_ts\", \"next_source\", \"next_destination\", \"next_V9\",\n",
    "            #\"next_ground_flag\", \"next_V16_V19\", \"next_quadrant\",\n",
    "            \"next_ground_flag\", \"next_quadrant\",\n",
    "            \"next_ground_speed\", \"next_V2\",\n",
    "            \"uniq_source\",\n",
    "            \"uniq_destination\",\n",
    "            \"max_ac_alt\") :=\n",
    "                list(c(lat[1], lat[-.N]), c(lon[1], lon[-.N]), c(azimuth[1], azimuth[-.N]), c(altitude[1], altitude[-.N]),\n",
    "                     c(ts[1], ts[-.N]), c(NA, source[-.N]), c(NA, destination[-.N]), c(NA, V9[-.N]),\n",
    "                     #c(ground_flag[1], ground_flag[-.N]), c(V16_V19[1], V16_V19[-.N]), c(quadrant[1], quadrant[-.N]),\n",
    "                     c(ground_flag[1], ground_flag[-.N]), c(quadrant[1], quadrant[-.N]),\n",
    "                     c(ground_speed[1], ground_speed[-.N]), c(V2[1], V2[-.N]),\n",
    "                     c(lat[-.1], NA), c(lon[-1], NA), c(azimuth[-.1], NA), c(altitude[-1], NA),\n",
    "                     c(ts[-1], NA), c(source[-1], NA), c(destination[-1], NA), c(V9[-1], NA),\n",
    "                     #c(ground_flag[-1], NA), c(V16_V19[-1], NA), c(quadrant[-1], NA),\n",
    "                     c(ground_flag[-1], NA), c(quadrant[-1], NA),\n",
    "                     c(ground_speed[-1], NA), c(V2[-1], NA),\n",
    "                     paste0(sort(unique(source)), collapse = \" \"),\n",
    "                     paste0(sort(unique(destination)), collapse = \" \"),\n",
    "                     max(altitude)), by = \"aircraft\"]\n",
    "ac_data <- ac_data[ac_data$max_ac_alt > 0, ] # Dropping aircraft (not IDs) that have max altitude = 0\n",
    "ac_data$last_ts_diff <- ac_data$ts - ac_data$last_ts\n",
    "ac_data$next_ts_diff <- ac_data$next_ts - ac_data$ts\n",
    "ac_data$destination <- toupper(ac_data$destination)\n",
    "ac_data$est_climb_rate <- 60 * (as.numeric(ac_data$altitude) - as.numeric(ac_data$last_altitude))/as.numeric(ac_data$last_ts_diff) # ft/min\n",
    "ac_data$climb_rate_ratio <- 1\n",
    "\n",
    "# Filling climb_rate_ratio if est_climb_rate!=0 and est_climb_rate is not null and last_ts_diff < 20 mins\n",
    "condition <- ac_data$est_climb_rate != 0 & !is.na(ac_data$est_climb_rate) & ac_data$last_ts_diff < 1200\n",
    "ac_data$climb_rate_ratio[condition] <- ac_data$climb_rate[condition]/ac_data$est_climb_rate[condition]\n",
    "\n",
    "# Change in heading quadrant\n",
    "ac_data$quadrant_change <- ac_data$quadrant != ac_data$last_quadrant"
   ]
  },
  {
   "cell_type": "markdown",
   "metadata": {},
   "source": [
    "# Reading airports data and checking"
   ]
  },
  {
   "cell_type": "code",
   "execution_count": 10,
   "metadata": {
    "id": "BXR2MM9_Z1w_"
   },
   "outputs": [
    {
     "data": {
      "text/html": [
       "<style>\n",
       ".list-inline {list-style: none; margin:0; padding: 0}\n",
       ".list-inline>li {display: inline-block}\n",
       ".list-inline>li:not(:last-child)::after {content: \"\\00b7\"; padding: 0 .5ex}\n",
       "</style>\n",
       "<ol class=list-inline><li>'YGK'</li><li>'YTR'</li><li>'GWW'</li><li>'ACK'</li><li>'ACY'</li><li>'ADW'</li><li>'ALB'</li><li>'APG'</li><li>'ART'</li><li>'AUG'</li><li>'BDL'</li><li>'BDR'</li><li>'BED'</li><li>'BGR'</li><li>'BOS'</li><li>'BTV'</li><li>'BWI'</li><li>'CEF'</li><li>'DCA'</li><li>'DOV'</li></ol>\n"
      ],
      "text/latex": [
       "\\begin{enumerate*}\n",
       "\\item 'YGK'\n",
       "\\item 'YTR'\n",
       "\\item 'GWW'\n",
       "\\item 'ACK'\n",
       "\\item 'ACY'\n",
       "\\item 'ADW'\n",
       "\\item 'ALB'\n",
       "\\item 'APG'\n",
       "\\item 'ART'\n",
       "\\item 'AUG'\n",
       "\\item 'BDL'\n",
       "\\item 'BDR'\n",
       "\\item 'BED'\n",
       "\\item 'BGR'\n",
       "\\item 'BOS'\n",
       "\\item 'BTV'\n",
       "\\item 'BWI'\n",
       "\\item 'CEF'\n",
       "\\item 'DCA'\n",
       "\\item 'DOV'\n",
       "\\end{enumerate*}\n"
      ],
      "text/markdown": [
       "1. 'YGK'\n",
       "2. 'YTR'\n",
       "3. 'GWW'\n",
       "4. 'ACK'\n",
       "5. 'ACY'\n",
       "6. 'ADW'\n",
       "7. 'ALB'\n",
       "8. 'APG'\n",
       "9. 'ART'\n",
       "10. 'AUG'\n",
       "11. 'BDL'\n",
       "12. 'BDR'\n",
       "13. 'BED'\n",
       "14. 'BGR'\n",
       "15. 'BOS'\n",
       "16. 'BTV'\n",
       "17. 'BWI'\n",
       "18. 'CEF'\n",
       "19. 'DCA'\n",
       "20. 'DOV'\n",
       "\n",
       "\n"
      ],
      "text/plain": [
       " [1] \"YGK\" \"YTR\" \"GWW\" \"ACK\" \"ACY\" \"ADW\" \"ALB\" \"APG\" \"ART\" \"AUG\" \"BDL\" \"BDR\"\n",
       "[13] \"BED\" \"BGR\" \"BOS\" \"BTV\" \"BWI\" \"CEF\" \"DCA\" \"DOV\""
      ]
     },
     "metadata": {},
     "output_type": "display_data"
    }
   ],
   "source": [
    "airports <- read.csv(\"GlobalAirportDatabase.txt\", header = F, stringsAsFactors = F, sep = \":\")\n",
    "airports <- airports %>% dplyr::rename(airport = V2, lat = V15, lon = V16)\n",
    "airports$airport <- toupper(airports$airport)\n",
    "airports <- airports[(airports$airport != \"\") & (airports$airport != \"N/A\"), ]\n",
    "\n",
    "# 511 of the 563 destinations can be matched\n",
    "\n",
    "airports <- airports[data.table::between(airports$lat, lower = lower_lat, upper = upper_lat) &\n",
    "                       data.table::between(airports$lon, lower = lower_lon, upper = upper_lon), ]\n",
    "rownames(airports) <- airports$V1 <- NULL\n",
    "head(airports$airport, 20)"
   ]
  },
  {
   "cell_type": "code",
   "execution_count": 11,
   "metadata": {
    "id": "hLi3J0ssZ1xA",
    "tags": []
   },
   "outputs": [
    {
     "data": {
      "text/plain": [
       "\n",
       "      0 \n",
       "1221858 "
      ]
     },
     "metadata": {},
     "output_type": "display_data"
    }
   ],
   "source": [
    "table(ac_data$altitude[ac_data$ground_flag == 1])"
   ]
  },
  {
   "cell_type": "markdown",
   "metadata": {},
   "source": [
    "# Defining landing and entry into sector"
   ]
  },
  {
   "cell_type": "code",
   "execution_count": 12,
   "metadata": {
    "id": "jUxnTglyZ1xA"
   },
   "outputs": [],
   "source": [
    "ac_data$touchdown <- (ac_data$last_ground_flag == 0) &\n",
    "  (ac_data$ground_flag == 1)\n",
    "ac_data[, \"last_touchdown\" := c(F, touchdown[-.N]), by = aircraft]\n",
    "ac_data$touchdown <- ac_data$last_touchdown\n",
    "ac_data$last_touchdown <- NULL"
   ]
  },
  {
   "cell_type": "code",
   "execution_count": 13,
   "metadata": {
    "id": "uxUjAzeEZzHR"
   },
   "outputs": [
    {
     "name": "stdout",
     "output_type": "stream",
     "text": [
      "[1] 2497\n"
     ]
    }
   ],
   "source": [
    "ac_data[, \"touchdown_id\" := cumsum(touchdown), by = aircraft]\n",
    "ac_data[, \"max_touchdown\" := max(touchdown_id), by = aircraft]\n",
    "ac_data[, max_altitude_touchdown_id := max(altitude), by = list(aircraft, touchdown_id)]\n",
    "print(sum(ac_data$touchdown & (ac_data$max_altitude_touchdown_id < 0.1 * ac_data$max_ac_alt)))\n",
    "ac_data$touchdown[ac_data$touchdown & (ac_data$max_altitude_touchdown_id < 0.1 * ac_data$max_ac_alt)] <- F\n",
    "ac_data[, \"touchdown_id\" := cumsum(touchdown), by = aircraft]\n",
    "ac_data[, \"max_touchdown\" := max(touchdown_id), by = aircraft]\n",
    "ac_data[, max_altitude_touchdown_id := max(altitude), by = list(aircraft, touchdown_id)]"
   ]
  },
  {
   "cell_type": "markdown",
   "metadata": {},
   "source": [
    "Consecutive landings within 10 mins is not possible. These can be considered as missed approaches, therefore only the final landing is considered"
   ]
  },
  {
   "cell_type": "code",
   "execution_count": 15,
   "metadata": {
    "tags": []
   },
   "outputs": [
    {
     "name": "stdout",
     "output_type": "stream",
     "text": [
      "[1] 1086\n"
     ]
    }
   ],
   "source": [
    "false_idx <- c()\n",
    "uniq_ac <- unique(ac_data$aircraft[ac_data$touchdown & ac_data$max_touchdown > 1])\n",
    "print(length(uniq_ac))"
   ]
  },
  {
   "cell_type": "markdown",
   "metadata": {},
   "source": [
    "Something's wrong with the R kernel in a notebook. So, the following lines were executed in R shell."
   ]
  },
  {
   "cell_type": "code",
   "execution_count": 16,
   "metadata": {
    "tags": []
   },
   "outputs": [],
   "source": [
    "j <- 0\n",
    "for(i in 1:length(uniq_ac)) {\n",
    "    if(((i * 100) / length(uniq_ac)) >= j) {\n",
    "        print(paste0(j, \"% complete\"))\n",
    "        j <- j + 10\n",
    "    }\n",
    "    ac <- uniq_ac[i]\n",
    "    ac_df <- ac_data[ac_data$aircraft == ac & ac_data$touchdown, ]\n",
    "    time_between_touchdowns <- as.numeric(difftime(ac_df$ts_readable[-1], ac_df$ts_readable[-nrow(ac_df)], units = \"s\"))\n",
    "    if(any(time_between_touchdowns < 600)) {\n",
    "        idx1 <- which(time_between_touchdowns < 600)\n",
    "        ac_data_idx <- which(ac_data$aircraft == ac & ac_data$touchdown)\n",
    "        false_idx <- c(false_idx, ac_data_idx[idx1])\n",
    "    }\n",
    "}\n",
    "\n",
    "##############################\n",
    "########### Output ###########\n",
    "##############################\n",
    "# [1] \"0% complete\"\n",
    "# [1] \"10% complete\"\n",
    "# [1] \"20% complete\"\n",
    "# [1] \"30% complete\"\n",
    "# [1] \"40% complete\"\n",
    "# [1] \"50% complete\"\n",
    "# [1] \"60% complete\"\n",
    "# [1] \"70% complete\"\n",
    "# [1] \"80% complete\"\n",
    "# [1] \"90% complete\"\n",
    "# [1] \"100% complete\""
   ]
  },
  {
   "cell_type": "code",
   "execution_count": null,
   "metadata": {},
   "outputs": [],
   "source": [
    "print(length(false_idx))\n",
    "if(length(false_idx) > 0) {\n",
    "  ac_data$touchdown[false_idx] <- F\n",
    "}\n",
    "\n",
    "##############################\n",
    "########### Output ###########\n",
    "##############################\n",
    "# [1] 224"
   ]
  },
  {
   "cell_type": "code",
   "execution_count": null,
   "metadata": {
    "id": "xdrl9n7YZ1xA"
   },
   "outputs": [],
   "source": [
    "touchdown_df <- ac_data[ac_data$touchdown, c(\"aircraft\", \"ts\")]\n",
    "rows <- nrow(touchdown_df) + 1\n",
    "\n",
    "while(rows != nrow(touchdown_df)) {\n",
    "    rows <- nrow(touchdown_df)\n",
    "    print(rows)\n",
    "    touchdown_df[, \"next_touchdown_ts\" := c(ts[-1], NA), by = \"aircraft\"]\n",
    "    touchdown_df$touchdown_time_diff <- touchdown_df$next_touchdown_ts - touchdown_df$ts\n",
    "    touchdown_df$touchdown_time_diff[is.na(touchdown_df$touchdown_time_diff)] <- 600\n",
    "    touchdown_df <- touchdown_df[touchdown_df$touchdown_time_diff >= 600, ]\n",
    "}\n",
    "touchdown_df$touchdown <- T\n",
    "ac_data$touchdown <- NULL\n",
    "ac_data <- merge(ac_data, touchdown_df, all.x = T, all.y = T)\n",
    "ac_data$touchdown[is.na(ac_data$touchdown)] <- F\n",
    "sum(ac_data$touchdown)\n",
    "\n",
    "##############################\n",
    "########### Output ###########\n",
    "##############################\n",
    "# [1] 5077\n",
    "# [1] 5077"
   ]
  },
  {
   "cell_type": "markdown",
   "metadata": {},
   "source": [
    "# Testing definition of touchdown"
   ]
  },
  {
   "cell_type": "code",
   "execution_count": null,
   "metadata": {
    "id": "KkMeQq2KZ1xA"
   },
   "outputs": [],
   "source": [
    "identify_airport <- function(lat, lon, lat_half_range = airport_lat_half_range,\n",
    "                             lon_half_range = airport_lon_half_range) {\n",
    "  df <- airports[data.table::between(airports$lat, lower = lat - lat_half_range,\n",
    "                                     upper = lat + lat_half_range) &\n",
    "                   data.table::between(airports$lon, lower = lon - lon_half_range,\n",
    "                                       upper = lon + lon_half_range), ]\n",
    "  if(nrow(df) > 1) {\n",
    "    dists <- apply(df, 1, function(row) {\n",
    "      row[\"lat\"] <- as.numeric(row[\"lat\"])\n",
    "      row[\"lon\"] <- as.numeric(row[\"lon\"])\n",
    "      return(distm(x = c(row[\"lon\"], row[\"lat\"]), y = c(lon, lat)))\n",
    "    })\n",
    "    df <- df[which.min(dists), ]\n",
    "    df$dist <- min(dists)\n",
    "  } else if(nrow(df) == 1) {\n",
    "    df$dist <- 0\n",
    "  } else {\n",
    "    dists <- apply(airports, 1, function(row) {\n",
    "      row[\"lat\"] <- as.numeric(row[\"lat\"])\n",
    "      row[\"lon\"] <- as.numeric(row[\"lon\"])\n",
    "      return(distm(x = c(lon, lat), y = c(row[\"lon\"], row[\"lat\"])))\n",
    "    })\n",
    "    df <- airports[which.min(dists), ]\n",
    "    df$dist <- min(dists)\n",
    "  }\n",
    "  return(df[, c(\"airport\", \"dist\")])\n",
    "}\n",
    "\n",
    "\n",
    "touchdown <- ac_data[ac_data$touchdown, ]\n",
    "landed_airport <- list()\n",
    "\n",
    "for(i in 1:nrow(touchdown)) {\n",
    "  landed_airport[[i]] <- identify_airport(touchdown$lat[i], touchdown$lon[i])\n",
    "}\n",
    "all(sapply(landed_airport, nrow) == 1)\n",
    "condition <- sapply(landed_airport, function(row) row$dist) <= 10000\n",
    "print(mean(condition)) # landed location is within 10 km of airport\n",
    "touchdown_idx <- which(ac_data$touchdown)\n",
    "non_touchdown <- touchdown_idx[!condition]\n",
    "ac_data$touchdown[non_touchdown] <- F\n",
    "ac_data$airport <- \"\"\n",
    "ac_data$airport[ac_data$touchdown] <- sapply(landed_airport, function(row) row$airport)[condition]\n",
    "\n",
    "##############################\n",
    "########### Output ###########\n",
    "##############################\n",
    "# [1] TRUE\n",
    "# [1] 0.8733504"
   ]
  },
  {
   "cell_type": "code",
   "execution_count": null,
   "metadata": {
    "id": "_YegjMPKZ1xA",
    "tags": []
   },
   "outputs": [],
   "source": [
    "precision_recall <- T\n",
    "if(precision_recall) {\n",
    "  dests <- ac_data$last_destination[ac_data$touchdown & ac_data$last_destination != \"\"]\n",
    "  print(mean(dests == ac_data$airport[ac_data$touchdown & ac_data$last_destination != \"\"]))\n",
    "  # Accuracy of 'given' destination: 0.9343\n",
    "  # Actually the precision is 0.9635 (from azimuth analysis)\n",
    "  \n",
    "  # JFK recall (assuming 'airport' is true value)\n",
    "  tbl <- table(ac_data$destination[ac_data$touchdown & ac_data$airport == \"JFK\"])\n",
    "  print(sort(tbl, decreasing = T)/sum(tbl))\n",
    "  # JFK recall is 0.9424, \"\" is the main issue. In some cases the aircraft destination was different?\n",
    "}\n",
    "\n",
    "##############################\n",
    "########### Output ###########\n",
    "##############################\n",
    "# [1] 0.92164\n",
    "\n",
    "#         JFK                     BNA         DCA         TPA \n",
    "# 0.982824427 0.011450382 0.001908397 0.001908397 0.001908397"
   ]
  },
  {
   "cell_type": "code",
   "execution_count": null,
   "metadata": {
    "id": "xi5NN49KZ1xB",
    "tags": []
   },
   "outputs": [],
   "source": [
    "lat_lon_boundary_flag <- function(lt, ln, last_lt, last_ln,\n",
    "                                  lower_lt = lower_lat, lower_ln = lower_lon, upper_lt = upper_lat,\n",
    "                                  upper_ln = upper_lon, lt_range = lat_range, ln_range = lon_range) {\n",
    "  ans <- (ln < ((lower_ln + ln_range) | last_ln < (lower_ln + ln_range))) |\n",
    "    ((ln > (upper_ln - ln_range) | last_ln > (upper_ln - ln_range))) |\n",
    "    ((lt < (lower_lt + lt_range) | last_ln < (lower_lt + lt_range))) |\n",
    "    ((lt > (upper_lt - lt_range) | last_ln > (upper_lt - lt_range)))\n",
    "  return(ans)\n",
    "}\n",
    "\n",
    "\n",
    "ac_data$landed <- ac_data$touchdown\n",
    "#ac_data$entered <- (ac_data$V2 != ac_data$last_V2) |\n",
    "#  (lat_lon_boundary_flag(ac_data$lat, ac_data$lon, ac_data$last_lat, ac_data$last_lon) &\n",
    "#          ac_data$last_ts_diff > 1080)\n",
    "# Aircraft 'entered' if \n",
    "# - last position was close to the boundary\n",
    "# - current position is close to the boundary\n",
    "# - time between last sample and current sample > 18 mins (~ min turnaround time after landing)\n",
    "ac_data$entered <- lat_lon_boundary_flag(ac_data$lat, ac_data$lon, ac_data$last_lat, ac_data$last_lon) & ac_data$last_ts_diff > 1080\n",
    "\n",
    "ac_data$entered[is.na(ac_data$entered)] <- F\n",
    "ac_data$expired <- (ac_data$last_ts_diff > ts_diff_expired)\n",
    "ac_data$landed_or_entered_or_expired <- ac_data$landed | ac_data$entered | ac_data$expired\n",
    "ac_data[, \"num_id\" := cumsum(landed_or_entered_or_expired), by = \"aircraft\"]\n",
    "table(ac_data$num_id)\n",
    "ac_data$id <- paste0(ac_data$aircraft, \"_\", ac_data$num_id)\n",
    "\n",
    "##############################\n",
    "########### Output ###########\n",
    "##############################\n",
    "#       0       1       2       3       4       5       6       7       8       9 \n",
    "# 1826566  648768  931478  504327  291799  283883  188793  114659   93193   55825 \n",
    "#      10      11      12      13      14      15      16      17      18      19 \n",
    "#   32350   20578   13246    8733    2847     704     635      58     906      32"
   ]
  },
  {
   "cell_type": "markdown",
   "metadata": {},
   "source": [
    "# Hand-picking numeric variables to reduce floating precision"
   ]
  },
  {
   "cell_type": "code",
   "execution_count": null,
   "metadata": {
    "tags": []
   },
   "outputs": [],
   "source": [
    "numerics <- colnames(ac_data)[sapply(ac_data, class) == 'numeric']\n",
    "numerics\n",
    "\n",
    "##############################\n",
    "########### Output ###########\n",
    "##############################\n",
    "#  [1] \"V1\"                        \"lat\"                      \n",
    "#  [3] \"lon\"                       \"altitude\"                 \n",
    "#  [5] \"ground_flag\"               \"quadrant\"                 \n",
    "#  [7] \"last_lat\"                  \"last_lon\"                 \n",
    "#  [9] \"last_altitude\"             \"last_ground_flag\"         \n",
    "# [11] \"last_quadrant\"             \"next_lat\"                 \n",
    "# [13] \"next_lon\"                  \"next_altitude\"            \n",
    "# [15] \"next_ground_flag\"          \"next_quadrant\"            \n",
    "# [17] \"max_ac_alt\"                \"est_climb_rate\"           \n",
    "# [19] \"climb_rate_ratio\"          \"max_altitude_touchdown_id\"\n",
    "# [21] \"touchdown_time_diff\""
   ]
  },
  {
   "cell_type": "markdown",
   "metadata": {},
   "source": [
    "Unfortunately float::fl doesn't work as expected as it just stores an 4 byte integer that's ready for converesion back to 8 byte float"
   ]
  },
  {
   "cell_type": "code",
   "execution_count": null,
   "metadata": {},
   "outputs": [],
   "source": [
    "# ac_data$lat <- float::fl(ac_data$lat)\n",
    "# ac_data$lon <- float::fl(ac_data$lon)\n",
    "ac_data$altitude <- as.integer(ac_data$altitude)\n",
    "ac_data$ground_flag <- ac_data$ground_flag==1\n",
    "ac_data$quadrant <- as.integer(ac_data$quadrant)\n",
    "# ac_data$last_lat <- float::fl(ac_data$last_lat)\n",
    "# ac_data$last_lon <- float::fl(ac_data$last_lon)\n",
    "ac_data$last_altitude <- as.integer(ac_data$last_altitude)\n",
    "ac_data$last_ground_flag <- ac_data$last_ground_flag==1\n",
    "ac_data$last_quadrant <- as.integer(ac_data$last_quadrant)\n",
    "# ac_data$next_lat <- float::fl(ac_data$next_lat)\n",
    "# ac_data$next_lon <- float::fl(ac_data$next_lon)\n",
    "ac_data$next_altitude <- as.integer(ac_data$next_altitude)\n",
    "ac_data$next_ground_flag <- ac_data$next_ground_flag==1\n",
    "ac_data$next_quadrant <- as.integer(ac_data$next_quadrant)\n",
    "ac_data$max_ac_alt <- as.integer(ac_data$max_ac_alt)\n",
    "# ac_data$est_climb_rate <- float::fl(ac_data$est_climb_rate)\n",
    "# ac_data$climb_rate_ratio <- float::fl(ac_data$climb_rate_ratio)\n",
    "ac_data$max_altitude_touchdown_id <- as.integer(ac_data$max_altitude_touchdown_id)"
   ]
  },
  {
   "cell_type": "markdown",
   "metadata": {},
   "source": [
    "# Altitude ratio filter"
   ]
  },
  {
   "cell_type": "code",
   "execution_count": null,
   "metadata": {},
   "outputs": [],
   "source": [
    "ac_data[, c(\"max_alt_ac_id\", \"q99_alt_ac_id\") := list(max(altitude), quantile(altitude, 0.99)), by = id]\n",
    "ac_data$max_99_ratio <- ac_data$max_alt_ac_id / ac_data$q99_alt_ac_id\n",
    "ac_data <- ac_data[ac_data$max_99_ratio < alt_100_99_perc_ratio_max, ] # Remove only the sample, not the entire aircraft's data\n",
    "# Also ends up removing IDs with altitude=0 throughout, which is okay if we don't want to bother about taxiing after touchdown\n",
    "# Otherwise taxiing should be preprocessed differently - somehow don't create a new ID after touchdown till the aircraft becomes inactive\n",
    "ac_data <- ac_data[ac_data$max_alt_ac_id <= altitude_ceiling & ac_data$max_alt_ac_id > 0, ] # Explicitly removing aircraft that don't get off the ground\n",
    "# This also removes taxiing phase\n",
    "rownames(ac_data) <- NULL"
   ]
  },
  {
   "cell_type": "markdown",
   "metadata": {},
   "source": [
    "# Saving final prepropcessed data"
   ]
  },
  {
   "cell_type": "code",
   "execution_count": null,
   "metadata": {
    "id": "ghPSEiTNZ1xB"
   },
   "outputs": [],
   "source": [
    "setDT(ac_data)\n",
    "setorder(ac_data, aircraft, ts)\n",
    "write_feather(ac_data[, c(\"aircraft\", \"id\", \"ts\", \"ts_readable\", \"lon\", \"lat\", \"altitude\", \"ground_speed\", \"azimuth\", \"source\", \"destination\")], \"ac_data_processed.feather\")\n",
    "ac_data[, c(\"last_touchdown\", \"next_touchdown\", \"last_entered\", \"next_entered\", \"last_airport\", \"next_airport\") :=\n",
    "          list(c(F, touchdown[-.N]), c(touchdown[-1], F), c(F, entered[-.N]), c(entered[-1], F), c(\"\", airport[-.N]), c(airport[-1], \"\")), by = \"aircraft\"]\n",
    "ac_data$next_touchdown[is.na(ac_data$next_touchdown)] <- F"
   ]
  },
  {
   "cell_type": "code",
   "execution_count": null,
   "metadata": {},
   "outputs": [],
   "source": [
    "jfk_data <- data.frame(id = unique(ac_data$id[ac_data$next_airport == \"JFK\" & ac_data$next_touchdown &\n",
    "                                              ac_data$source != \"JFK\"]), jfk_landing_flag = T)\n",
    "jfk_data <- merge(jfk_data, ac_data, all.x = T, all.y = T)\n",
    "jfk_data$jfk_landing_flag[is.na(jfk_data$jfk_landing_flag)] <- F\n",
    "setDT(jfk_data)\n",
    "jfk_data[, \"max_id_alt\" := max(altitude), by = \"id\"]\n",
    "write.csv(jfk_data[, c(\"id\", \"aircraft\", \"lat\", \"lon\", \"ts\", \"altitude\", \"climb_rate\",\n",
    "                       \"azimuth\", \"ground_speed\", \"jfk_landing_flag\", \"source\",\n",
    "                       \"destination\", \"ground_flag\")],\n",
    "          \"samples_with_jfk_landing_flag.csv\", row.names = F)\n",
    "write_feather(ac_data, \"full_ac_data.feather\")\n",
    "# saveRDS(jfk_data[jfk_data$max_id_alt >= 20000, ], \"high_ac_data.Rds\")\n",
    "write_feather(jfk_data, \"full_jfk_data.feather\")"
   ]
  },
  {
   "cell_type": "code",
   "execution_count": null,
   "metadata": {
    "id": "gVg7pOB5Z1xB"
   },
   "outputs": [],
   "source": [
    "length(unique(jfk_data$id))\n",
    "\n",
    "##############################\n",
    "########### Output ###########\n",
    "##############################\n",
    "# [1] 20486"
   ]
  }
 ],
 "metadata": {
  "colab": {
   "provenance": []
  },
  "environment": {
   "kernel": "ir",
   "name": "r-cpu.4-2.m108",
   "type": "gcloud",
   "uri": "gcr.io/deeplearning-platform-release/r-cpu.4-2:m108"
  },
  "kernelspec": {
   "display_name": "R",
   "language": "R",
   "name": "ir"
  },
  "language_info": {
   "codemirror_mode": "r",
   "file_extension": ".r",
   "mimetype": "text/x-r-source",
   "name": "R",
   "pygments_lexer": "r",
   "version": "4.2.3"
  }
 },
 "nbformat": 4,
 "nbformat_minor": 4
}
