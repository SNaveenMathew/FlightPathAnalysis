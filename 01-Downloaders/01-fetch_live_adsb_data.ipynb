{
 "cells": [
  {
   "cell_type": "markdown",
   "metadata": {},
   "source": [
    "This script fetches live ADS-B data from FlightRadar24.com. Getting historical data is harder than getting live data. But getting live data is slow."
   ]
  },
  {
   "cell_type": "code",
   "execution_count": 1,
   "metadata": {},
   "outputs": [],
   "source": [
    "import subprocess\n",
    "import time\n",
    "import json\n",
    "import pandas as pd\n",
    "import csv"
   ]
  },
  {
   "cell_type": "code",
   "execution_count": null,
   "metadata": {
    "scrolled": true
   },
   "outputs": [],
   "source": [
    "start_time = time.time()\n",
    "out_file = open('../data/ads-b_extra.csv', 'a')\n",
    "writer = csv.writer(out_file)\n",
    "command = ['curl', 'https://data-live.flightradar24.com/zones/fcgi/feed.js?bounds=45,35,-78,-68&faa=1&mlat=1&flarm=1&adsb=1&gnd=1&air=1&vehicles=1&estimated=1&maxage=7200&gliders=1&stats=1']\n",
    "curr_time = time.time()\n",
    "total_time = curr_time - start_time\n",
    "\n",
    "run_time_hours = 336 # 2 weeks * 7 days per week * 24 hours per day\n",
    "query_wait_time = 8\n",
    "ignore_keys = {\"full_count\", \"version\", \"stats\"}\n",
    "\n",
    "while total_time < (run_time_hours * 60 * 60):\n",
    "    try:\n",
    "        out = subprocess.run(command, capture_output = True)\n",
    "        out = json.loads(out.stdout)\n",
    "        out = {key: out[key] for key in out.keys() if key not in ignore_keys}\n",
    "        df = pd.DataFrame(out).T.reset_index(drop = False)\n",
    "        \n",
    "        for i in range(df.shape[0]):\n",
    "            row = df.iloc[i]\n",
    "            writer.writerow([curr_time] + row.tolist())\n",
    "        \n",
    "        curr_time = time.time()\n",
    "        total_time = curr_time - start_time\n",
    "        time.sleep(query_wait_time)\n",
    "    except:\n",
    "        continue"
   ]
  },
  {
   "cell_type": "code",
   "execution_count": null,
   "metadata": {},
   "outputs": [],
   "source": [
    "out_file.close()"
   ]
  }
 ],
 "metadata": {
  "kernelspec": {
   "display_name": "Python 3 (ipykernel)",
   "language": "python",
   "name": "python3"
  },
  "language_info": {
   "codemirror_mode": {
    "name": "ipython",
    "version": 3
   },
   "file_extension": ".py",
   "mimetype": "text/x-python",
   "name": "python",
   "nbconvert_exporter": "python",
   "pygments_lexer": "ipython3",
   "version": "3.11.3"
  }
 },
 "nbformat": 4,
 "nbformat_minor": 2
}
