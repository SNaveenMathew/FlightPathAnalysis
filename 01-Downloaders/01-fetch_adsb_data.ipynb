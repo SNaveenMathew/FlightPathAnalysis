{
 "cells": [
  {
   "cell_type": "code",
   "execution_count": 1,
   "metadata": {},
   "outputs": [],
   "source": [
    "import os\n",
    "import time\n",
    "import json\n",
    "import pandas as pd\n",
    "import csv"
   ]
  },
  {
   "cell_type": "code",
   "execution_count": 2,
   "metadata": {
    "scrolled": true
   },
   "outputs": [
    {
     "name": "stderr",
     "output_type": "stream",
     "text": [
      "  % Total    % Received % Xferd  Average Speed   Time    Time     Time  Current\n",
      "                                 Dload  Upload   Total   Spent    Left  Speed\n",
      "100  112k    0  112k    0     0   450k      0 --:--:-- --:--:-- --:--:--  451k\n",
      "  % Total    % Received % Xferd  Average Speed   Time    Time     Time  Current\n",
      "                                 Dload  Upload   Total   Spent    Left  Speed\n",
      "100  112k    0  112k    0     0   489k      0 --:--:-- --:--:-- --:--:--  487k\n",
      "  % Total    % Received % Xferd  Average Speed   Time    Time     Time  Current\n",
      "                                 Dload  Upload   Total   Spent    Left  Speed\n",
      "100  112k    0  112k    0     0   497k      0 --:--:-- --:--:-- --:--:--  499k\n",
      "  % Total    % Received % Xferd  Average Speed   Time    Time     Time  Current\n",
      "                                 Dload  Upload   Total   Spent    Left  Speed\n",
      "100  112k    0  112k    0     0   494k      0 --:--:-- --:--:-- --:--:--  495k\n",
      "  % Total    % Received % Xferd  Average Speed   Time    Time     Time  Current\n",
      "                                 Dload  Upload   Total   Spent    Left  Speed\n",
      "100  112k    0  112k    0     0   311k      0 --:--:-- --:--:-- --:--:--  310k\n",
      "  % Total    % Received % Xferd  Average Speed   Time    Time     Time  Current\n",
      "                                 Dload  Upload   Total   Spent    Left  Speed\n",
      "100  112k    0  112k    0     0   330k      0 --:--:-- --:--:-- --:--:--  331k\n"
     ]
    }
   ],
   "source": [
    "start_time = time.time()\n",
    "out_file = open('../data/ads-b_extra.csv', 'a')\n",
    "writer = csv.writer(out_file)\n",
    "command = 'curl \"https://data-live.flightradar24.com/zones/fcgi/feed.js?bounds=45,35,-78,-68&faa=1&mlat=1&flarm=1&adsb=1&gnd=1&air=1&vehicles=1&estimated=1&maxage=7200&gliders=1&stats=1\" > ../data/temp.json'\n",
    "curr_time = time.time()\n",
    "total_time = curr_time - start_time\n",
    "\n",
    "run_time_hours = 144\n",
    "query_wait_time = 8\n",
    "\n",
    "while total_time < (run_time_hours * 60 * 60):\n",
    "    try:\n",
    "        os.system(command)\n",
    "        out = json.load(open(\"../data/temp.json\"))\n",
    "        out = {key: out[key] for key in out.keys() if (key != \"full_count\" and key != \"version\" and key != \"stats\")}\n",
    "        df = pd.DataFrame(out).T.reset_index(drop = False)\n",
    "        \n",
    "        for i in range(df.shape[0]):\n",
    "            row = df.iloc[i]\n",
    "            writer.writerow([curr_time] + row.tolist())\n",
    "        \n",
    "        curr_time = time.time()\n",
    "        total_time = curr_time - start_time\n",
    "        time.sleep(query_wait_time)\n",
    "    except:\n",
    "        continue"
   ]
  },
  {
   "cell_type": "code",
   "execution_count": 3,
   "metadata": {},
   "outputs": [
    {
     "data": {
      "text/plain": [
       "0"
      ]
     },
     "execution_count": 3,
     "metadata": {},
     "output_type": "execute_result"
    }
   ],
   "source": [
    "out_file.close()\n",
    "os.system(\"rm ../data/temp.json\")"
   ]
  }
 ],
 "metadata": {
  "kernelspec": {
   "display_name": "Python 3 (ipykernel)",
   "language": "python",
   "name": "python3"
  },
  "language_info": {
   "codemirror_mode": {
    "name": "ipython",
    "version": 3
   },
   "file_extension": ".py",
   "mimetype": "text/x-python",
   "name": "python",
   "nbconvert_exporter": "python",
   "pygments_lexer": "ipython3",
   "version": "3.11.3"
  }
 },
 "nbformat": 4,
 "nbformat_minor": 2
}
